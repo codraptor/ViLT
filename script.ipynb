{
 "cells": [
  {
   "cell_type": "code",
   "execution_count": 1,
   "id": "9240e045-f16d-4328-926c-def37d62b93b",
   "metadata": {
    "execution": {
     "iopub.execute_input": "2022-09-27T20:24:20.862221Z",
     "iopub.status.busy": "2022-09-27T20:24:20.861741Z",
     "iopub.status.idle": "2022-09-27T20:24:29.033806Z",
     "shell.execute_reply": "2022-09-27T20:24:29.032931Z",
     "shell.execute_reply.started": "2022-09-27T20:24:20.862139Z"
    },
    "tags": []
   },
   "outputs": [],
   "source": [
    "from vilt.transforms import pixelbert_transform\n",
    "from vilt.datamodules.datamodule_base import get_pretrained_tokenizer"
   ]
  },
  {
   "cell_type": "code",
   "execution_count": 2,
   "id": "cbf88fd3-1142-4978-badc-40060e229cd1",
   "metadata": {
    "execution": {
     "iopub.execute_input": "2022-09-27T20:24:29.035831Z",
     "iopub.status.busy": "2022-09-27T20:24:29.035349Z",
     "iopub.status.idle": "2022-09-27T20:24:29.039570Z",
     "shell.execute_reply": "2022-09-27T20:24:29.038846Z",
     "shell.execute_reply.started": "2022-09-27T20:24:29.035807Z"
    },
    "tags": []
   },
   "outputs": [],
   "source": [
    "import torch"
   ]
  },
  {
   "cell_type": "code",
   "execution_count": 3,
   "id": "0216f111-4f50-45c4-8d45-af75856408ed",
   "metadata": {
    "execution": {
     "iopub.execute_input": "2022-09-27T20:24:29.040553Z",
     "iopub.status.busy": "2022-09-27T20:24:29.040345Z",
     "iopub.status.idle": "2022-09-27T20:24:29.252630Z",
     "shell.execute_reply": "2022-09-27T20:24:29.251887Z",
     "shell.execute_reply.started": "2022-09-27T20:24:29.040533Z"
    },
    "tags": []
   },
   "outputs": [],
   "source": [
    "scripted_pb_transform = torch.jit.script(pixelbert_transform(384))"
   ]
  },
  {
   "cell_type": "code",
   "execution_count": 4,
   "id": "12400336-cfc6-4316-9377-ababb4d496ab",
   "metadata": {
    "execution": {
     "iopub.execute_input": "2022-09-27T20:24:29.254630Z",
     "iopub.status.busy": "2022-09-27T20:24:29.254346Z",
     "iopub.status.idle": "2022-09-27T20:24:29.259910Z",
     "shell.execute_reply": "2022-09-27T20:24:29.259267Z",
     "shell.execute_reply.started": "2022-09-27T20:24:29.254607Z"
    },
    "tags": []
   },
   "outputs": [],
   "source": [
    "from torch.utils.mobile_optimizer import optimize_for_mobile"
   ]
  },
  {
   "cell_type": "code",
   "execution_count": 5,
   "id": "18f974ca-7fd3-4edd-89ee-a7e37203cd87",
   "metadata": {
    "execution": {
     "iopub.execute_input": "2022-09-27T20:24:29.261071Z",
     "iopub.status.busy": "2022-09-27T20:24:29.260813Z",
     "iopub.status.idle": "2022-09-27T20:24:29.307814Z",
     "shell.execute_reply": "2022-09-27T20:24:29.306922Z",
     "shell.execute_reply.started": "2022-09-27T20:24:29.261050Z"
    },
    "tags": []
   },
   "outputs": [],
   "source": [
    "optimized_torchscript_processor = optimize_for_mobile(scripted_pb_transform)"
   ]
  },
  {
   "cell_type": "code",
   "execution_count": 6,
   "id": "a01682e1-3b66-435a-81ae-43df506a6973",
   "metadata": {
    "execution": {
     "iopub.execute_input": "2022-09-27T20:24:29.309082Z",
     "iopub.status.busy": "2022-09-27T20:24:29.308797Z",
     "iopub.status.idle": "2022-09-27T20:24:29.788651Z",
     "shell.execute_reply": "2022-09-27T20:24:29.787668Z",
     "shell.execute_reply.started": "2022-09-27T20:24:29.309033Z"
    },
    "tags": []
   },
   "outputs": [],
   "source": [
    "optimized_torchscript_processor._save_for_lite_interpreter(\"vilt_lite_processor.ptl\")"
   ]
  },
  {
   "cell_type": "code",
   "execution_count": 16,
   "id": "6f20be68-a736-40e1-aeeb-fe9aa78be9cf",
   "metadata": {
    "execution": {
     "iopub.execute_input": "2022-09-27T20:31:45.716694Z",
     "iopub.status.busy": "2022-09-27T20:31:45.716305Z",
     "iopub.status.idle": "2022-09-27T20:31:45.721701Z",
     "shell.execute_reply": "2022-09-27T20:31:45.720453Z",
     "shell.execute_reply.started": "2022-09-27T20:31:45.716665Z"
    }
   },
   "outputs": [],
   "source": [
    "# Testing BertTokenizer"
   ]
  },
  {
   "cell_type": "code",
   "execution_count": 8,
   "id": "95d634ac-3071-4d01-8901-1c1e7c78d302",
   "metadata": {
    "execution": {
     "iopub.execute_input": "2022-09-27T20:24:36.717359Z",
     "iopub.status.busy": "2022-09-27T20:24:36.716891Z",
     "iopub.status.idle": "2022-09-27T20:24:36.723131Z",
     "shell.execute_reply": "2022-09-27T20:24:36.721896Z",
     "shell.execute_reply.started": "2022-09-27T20:24:36.717315Z"
    },
    "tags": []
   },
   "outputs": [],
   "source": [
    "from transformers import BertTokenizer"
   ]
  },
  {
   "cell_type": "code",
   "execution_count": 11,
   "id": "be11e0fa-72f2-4808-9a8f-396673a50f76",
   "metadata": {
    "execution": {
     "iopub.execute_input": "2022-09-27T20:24:49.980066Z",
     "iopub.status.busy": "2022-09-27T20:24:49.979173Z",
     "iopub.status.idle": "2022-09-27T20:24:50.322285Z",
     "shell.execute_reply": "2022-09-27T20:24:50.321154Z",
     "shell.execute_reply.started": "2022-09-27T20:24:49.980035Z"
    },
    "tags": []
   },
   "outputs": [],
   "source": [
    "tokenizer = BertTokenizer.from_pretrained(\"bert-base-uncased\", do_lower_case=True, torchscript=True)"
   ]
  },
  {
   "cell_type": "code",
   "execution_count": 12,
   "id": "7181ab92-6cf1-42b4-811b-b9cde8900c7a",
   "metadata": {
    "execution": {
     "iopub.execute_input": "2022-09-27T20:24:51.767831Z",
     "iopub.status.busy": "2022-09-27T20:24:51.767505Z",
     "iopub.status.idle": "2022-09-27T20:24:51.772017Z",
     "shell.execute_reply": "2022-09-27T20:24:51.771169Z",
     "shell.execute_reply.started": "2022-09-27T20:24:51.767808Z"
    },
    "tags": []
   },
   "outputs": [],
   "source": [
    "text = \"[CLS] Who was Jim Henson ? [SEP] Jim Henson was a puppeteer [SEP]\""
   ]
  },
  {
   "cell_type": "code",
   "execution_count": 13,
   "id": "fee48a7c-b46c-43b1-af82-f81fc9942db4",
   "metadata": {
    "execution": {
     "iopub.execute_input": "2022-09-27T20:24:53.163594Z",
     "iopub.status.busy": "2022-09-27T20:24:53.163273Z",
     "iopub.status.idle": "2022-09-27T20:24:53.175331Z",
     "shell.execute_reply": "2022-09-27T20:24:53.174267Z",
     "shell.execute_reply.started": "2022-09-27T20:24:53.163571Z"
    },
    "tags": []
   },
   "outputs": [
    {
     "data": {
      "text/plain": [
       "{'input_ids': [101, 101, 2040, 2001, 3958, 27227, 1029, 102, 3958, 27227, 2001, 1037, 13997, 11510, 102, 102], 'token_type_ids': [0, 0, 0, 0, 0, 0, 0, 0, 0, 0, 0, 0, 0, 0, 0, 0], 'attention_mask': [1, 1, 1, 1, 1, 1, 1, 1, 1, 1, 1, 1, 1, 1, 1, 1]}"
      ]
     },
     "execution_count": 13,
     "metadata": {},
     "output_type": "execute_result"
    }
   ],
   "source": [
    "tokenizer(text)"
   ]
  },
  {
   "cell_type": "code",
   "execution_count": 17,
   "id": "c329f823-6ac4-45ac-a1fc-4befab23d89c",
   "metadata": {
    "execution": {
     "iopub.execute_input": "2022-09-27T20:32:01.209728Z",
     "iopub.status.busy": "2022-09-27T20:32:01.209332Z",
     "iopub.status.idle": "2022-09-27T20:32:01.213954Z",
     "shell.execute_reply": "2022-09-27T20:32:01.213025Z",
     "shell.execute_reply.started": "2022-09-27T20:32:01.209703Z"
    }
   },
   "outputs": [],
   "source": [
    "from detectron2.export import TracingAdapter"
   ]
  },
  {
   "cell_type": "code",
   "execution_count": 19,
   "id": "62900f5e-8f83-4336-805c-8f560515e1ea",
   "metadata": {
    "execution": {
     "iopub.execute_input": "2022-09-27T20:32:18.215356Z",
     "iopub.status.busy": "2022-09-27T20:32:18.214933Z",
     "iopub.status.idle": "2022-09-27T20:32:18.264118Z",
     "shell.execute_reply": "2022-09-27T20:32:18.262611Z",
     "shell.execute_reply.started": "2022-09-27T20:32:18.215329Z"
    }
   },
   "outputs": [
    {
     "ename": "ValueError",
     "evalue": "Inputs for tracing must only contain tensors. Got a <class 'str'> instead.",
     "output_type": "error",
     "traceback": [
      "\u001b[0;31m---------------------------------------------------------------------------\u001b[0m",
      "\u001b[0;31mValueError\u001b[0m                                Traceback (most recent call last)",
      "Input \u001b[0;32mIn [20]\u001b[0m, in \u001b[0;36m<cell line: 1>\u001b[0;34m()\u001b[0m\n\u001b[0;32m----> 1\u001b[0m adapter \u001b[38;5;241m=\u001b[39m \u001b[43mTracingAdapter\u001b[49m\u001b[43m(\u001b[49m\u001b[43mtokenizer\u001b[49m\u001b[38;5;241;43m.\u001b[39;49m\u001b[43mtokenize\u001b[49m\u001b[43m,\u001b[49m\u001b[43m \u001b[49m\u001b[43mtext\u001b[49m\u001b[43m)\u001b[49m\n",
      "File \u001b[0;32m/usr/local/lib/python3.9/dist-packages/detectron2/export/flatten.py:274\u001b[0m, in \u001b[0;36mTracingAdapter.__init__\u001b[0;34m(self, model, inputs, inference_func, allow_non_tensor)\u001b[0m\n\u001b[1;32m    272\u001b[0m \u001b[38;5;28;01mfor\u001b[39;00m \u001b[38;5;28minput\u001b[39m \u001b[38;5;129;01min\u001b[39;00m \u001b[38;5;28mself\u001b[39m\u001b[38;5;241m.\u001b[39mflattened_inputs:\n\u001b[1;32m    273\u001b[0m     \u001b[38;5;28;01mif\u001b[39;00m \u001b[38;5;129;01mnot\u001b[39;00m \u001b[38;5;28misinstance\u001b[39m(\u001b[38;5;28minput\u001b[39m, torch\u001b[38;5;241m.\u001b[39mTensor):\n\u001b[0;32m--> 274\u001b[0m         \u001b[38;5;28;01mraise\u001b[39;00m \u001b[38;5;167;01mValueError\u001b[39;00m(\n\u001b[1;32m    275\u001b[0m             \u001b[38;5;124m\"\u001b[39m\u001b[38;5;124mInputs for tracing must only contain tensors. \u001b[39m\u001b[38;5;124m\"\u001b[39m\n\u001b[1;32m    276\u001b[0m             \u001b[38;5;124mf\u001b[39m\u001b[38;5;124m\"\u001b[39m\u001b[38;5;124mGot a \u001b[39m\u001b[38;5;132;01m{\u001b[39;00m\u001b[38;5;28mtype\u001b[39m(\u001b[38;5;28minput\u001b[39m)\u001b[38;5;132;01m}\u001b[39;00m\u001b[38;5;124m instead.\u001b[39m\u001b[38;5;124m\"\u001b[39m\n\u001b[1;32m    277\u001b[0m         )\n",
      "\u001b[0;31mValueError\u001b[0m: Inputs for tracing must only contain tensors. Got a <class 'str'> instead."
     ]
    }
   ],
   "source": [
    "torch.jit.script()"
   ]
  },
  {
   "cell_type": "code",
   "execution_count": 47,
   "id": "6734b4e2-994a-49e3-93cf-cd2e1d4d969e",
   "metadata": {
    "execution": {
     "iopub.execute_input": "2022-09-27T21:01:08.563569Z",
     "iopub.status.busy": "2022-09-27T21:01:08.563220Z",
     "iopub.status.idle": "2022-09-27T21:01:08.570015Z",
     "shell.execute_reply": "2022-09-27T21:01:08.568693Z",
     "shell.execute_reply.started": "2022-09-27T21:01:08.563544Z"
    }
   },
   "outputs": [],
   "source": [
    "def foo(x):\n",
    "    lookup = {\n",
    "        0: \"a\",\n",
    "        1: \"b\"\n",
    "    }\n",
    "    decoded = \"\".join([lookup[v.item()] for v in x])\n",
    "    print(decoded)\n",
    "    return len(decoded)"
   ]
  },
  {
   "cell_type": "code",
   "execution_count": 48,
   "id": "6d55c0d4-75c9-4510-aa69-64022a047cc3",
   "metadata": {
    "execution": {
     "iopub.execute_input": "2022-09-27T21:01:10.632005Z",
     "iopub.status.busy": "2022-09-27T21:01:10.631067Z",
     "iopub.status.idle": "2022-09-27T21:01:10.636530Z",
     "shell.execute_reply": "2022-09-27T21:01:10.635736Z",
     "shell.execute_reply.started": "2022-09-27T21:01:10.631978Z"
    }
   },
   "outputs": [],
   "source": [
    "inp = [torch.tensor(_) for _ in [0, 1, 1, 0, 0, 1]]"
   ]
  },
  {
   "cell_type": "code",
   "execution_count": 49,
   "id": "2d67f546-c40a-4f3b-9789-dd3b7fb16d39",
   "metadata": {
    "execution": {
     "iopub.execute_input": "2022-09-27T21:01:30.408032Z",
     "iopub.status.busy": "2022-09-27T21:01:30.407544Z",
     "iopub.status.idle": "2022-09-27T21:01:30.417938Z",
     "shell.execute_reply": "2022-09-27T21:01:30.416591Z",
     "shell.execute_reply.started": "2022-09-27T21:01:30.408000Z"
    }
   },
   "outputs": [
    {
     "data": {
      "text/plain": [
       "<torch.jit.ScriptFunction at 0x7f37942ad1d0>"
      ]
     },
     "execution_count": 49,
     "metadata": {},
     "output_type": "execute_result"
    }
   ],
   "source": [
    "torch.jit.script(foo)"
   ]
  },
  {
   "cell_type": "code",
   "execution_count": null,
   "id": "39607dc8-1157-465b-b023-c0d00c02d36d",
   "metadata": {},
   "outputs": [],
   "source": []
  },
  {
   "cell_type": "code",
   "execution_count": null,
   "id": "f3fe5b05-fab2-4591-bbab-dd970f607c32",
   "metadata": {},
   "outputs": [],
   "source": []
  },
  {
   "cell_type": "code",
   "execution_count": null,
   "id": "3cbaff25-fb78-4dd5-9e53-fafaabe486bd",
   "metadata": {},
   "outputs": [],
   "source": []
  }
 ],
 "metadata": {
  "kernelspec": {
   "display_name": "Python 3 (ipykernel)",
   "language": "python",
   "name": "python3"
  },
  "language_info": {
   "codemirror_mode": {
    "name": "ipython",
    "version": 3
   },
   "file_extension": ".py",
   "mimetype": "text/x-python",
   "name": "python",
   "nbconvert_exporter": "python",
   "pygments_lexer": "ipython3",
   "version": "3.9.13"
  }
 },
 "nbformat": 4,
 "nbformat_minor": 5
}
