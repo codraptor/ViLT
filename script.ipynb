{
 "cells": [
  {
   "cell_type": "code",
   "execution_count": 1,
   "id": "9240e045-f16d-4328-926c-def37d62b93b",
   "metadata": {
    "execution": {
     "iopub.execute_input": "2022-09-27T20:24:20.862221Z",
     "iopub.status.busy": "2022-09-27T20:24:20.861741Z",
     "iopub.status.idle": "2022-09-27T20:24:29.033806Z",
     "shell.execute_reply": "2022-09-27T20:24:29.032931Z",
     "shell.execute_reply.started": "2022-09-27T20:24:20.862139Z"
    },
    "tags": []
   },
   "outputs": [],
   "source": [
    "from vilt.transforms import pixelbert_transform\n",
    "from vilt.datamodules.datamodule_base import get_pretrained_tokenizer"
   ]
  },
  {
   "cell_type": "code",
   "execution_count": 2,
   "id": "cbf88fd3-1142-4978-badc-40060e229cd1",
   "metadata": {
    "execution": {
     "iopub.execute_input": "2022-09-27T20:24:29.035831Z",
     "iopub.status.busy": "2022-09-27T20:24:29.035349Z",
     "iopub.status.idle": "2022-09-27T20:24:29.039570Z",
     "shell.execute_reply": "2022-09-27T20:24:29.038846Z",
     "shell.execute_reply.started": "2022-09-27T20:24:29.035807Z"
    },
    "tags": []
   },
   "outputs": [],
   "source": [
    "import torch"
   ]
  },
  {
   "cell_type": "code",
   "execution_count": 3,
   "id": "888bfd13",
   "metadata": {},
   "outputs": [],
   "source": [
    "import numpy as np"
   ]
  },
  {
   "cell_type": "code",
   "execution_count": 4,
   "id": "508a28e6",
   "metadata": {},
   "outputs": [],
   "source": [
    "import requests\n",
    "from PIL import Image\n",
    "import io"
   ]
  },
  {
   "cell_type": "code",
   "execution_count": 5,
   "id": "fba400d6",
   "metadata": {},
   "outputs": [],
   "source": [
    "from torchvision.transforms import ToTensor"
   ]
  },
  {
   "cell_type": "code",
   "execution_count": 6,
   "id": "fffb7712",
   "metadata": {},
   "outputs": [
    {
     "data": {
      "text/plain": [
       "'1.10.0'"
      ]
     },
     "execution_count": 6,
     "metadata": {},
     "output_type": "execute_result"
    }
   ],
   "source": [
    "torch.__version__"
   ]
  },
  {
   "cell_type": "code",
   "execution_count": 7,
   "id": "b6fb9707",
   "metadata": {},
   "outputs": [
    {
     "name": "stdout",
     "output_type": "stream",
     "text": [
      "384 639\n"
     ]
    }
   ],
   "source": [
    "transform = pixelbert_transform()"
   ]
  },
  {
   "cell_type": "code",
   "execution_count": 36,
   "id": "0216f111-4f50-45c4-8d45-af75856408ed",
   "metadata": {
    "execution": {
     "iopub.execute_input": "2022-09-27T20:24:29.040553Z",
     "iopub.status.busy": "2022-09-27T20:24:29.040345Z",
     "iopub.status.idle": "2022-09-27T20:24:29.252630Z",
     "shell.execute_reply": "2022-09-27T20:24:29.251887Z",
     "shell.execute_reply.started": "2022-09-27T20:24:29.040533Z"
    },
    "tags": []
   },
   "outputs": [
    {
     "name": "stdout",
     "output_type": "stream",
     "text": [
      "384 639\n"
     ]
    }
   ],
   "source": [
    "scripted_pb_transform = torch.jit.script(pixelbert_transform(384))"
   ]
  },
  {
   "cell_type": "code",
   "execution_count": 37,
   "id": "2a3ac0ec",
   "metadata": {},
   "outputs": [],
   "source": [
    "url = \"https://media.istockphoto.com/photos/joyful-dog-playing-with-whip-while-walking-on-green-field-picture-id1187003477?k=20&m=1187003477&s=612x612&w=0&h=fvUFuwvTZWEJjk8HUU80-zvaI4gg9szPGJ2RdASH72s=\"\n",
    "text = \"How many dogs are there in this picture?\"\n",
    "res = requests.get(url)\n",
    "image = Image.open(io.BytesIO(res.content)).convert(\"RGB\")"
   ]
  },
  {
   "cell_type": "code",
   "execution_count": 38,
   "id": "ed1667ac",
   "metadata": {},
   "outputs": [],
   "source": [
    "pil_to_tensor = ToTensor()(image).unsqueeze_(0)"
   ]
  },
  {
   "cell_type": "code",
   "execution_count": 39,
   "id": "205f8d40",
   "metadata": {},
   "outputs": [
    {
     "data": {
      "text/plain": [
       "torch.Size([1, 3, 408, 612])"
      ]
     },
     "execution_count": 39,
     "metadata": {},
     "output_type": "execute_result"
    }
   ],
   "source": [
    "pil_to_tensor.shape"
   ]
  },
  {
   "cell_type": "code",
   "execution_count": 40,
   "id": "8d7e6e80",
   "metadata": {},
   "outputs": [],
   "source": [
    "output = scripted_pb_transform(pil_to_tensor)"
   ]
  },
  {
   "cell_type": "code",
   "execution_count": 41,
   "id": "ef7b761f",
   "metadata": {},
   "outputs": [
    {
     "data": {
      "text/plain": [
       "torch.Size([1, 3, 384, 576])"
      ]
     },
     "execution_count": 41,
     "metadata": {},
     "output_type": "execute_result"
    }
   ],
   "source": [
    "output.shape"
   ]
  },
  {
   "cell_type": "code",
   "execution_count": null,
   "id": "e7783f71",
   "metadata": {},
   "outputs": [],
   "source": []
  },
  {
   "cell_type": "code",
   "execution_count": 28,
   "id": "9ed24190",
   "metadata": {},
   "outputs": [
    {
     "data": {
      "text/plain": [
       "array([[[[ 0.96862745,  0.96862733,  0.9686276 , ...,  0.9840715 ,\n",
       "           0.9843137 ,  0.9843136 ],\n",
       "         [ 0.96862733,  0.9686272 ,  0.96862745, ...,  0.9840715 ,\n",
       "           0.98431396,  0.98431385],\n",
       "         [ 0.9686276 ,  0.96862745,  0.9686277 , ...,  0.9840715 ,\n",
       "           0.98431385,  0.98431385],\n",
       "         ...,\n",
       "         [-0.20907253, -0.18830395, -0.1918391 , ..., -0.6707498 ,\n",
       "          -0.6691296 , -0.6904973 ],\n",
       "         [-0.18646789, -0.1597532 , -0.13315493, ..., -0.63559294,\n",
       "          -0.619908  , -0.6589998 ],\n",
       "         [-0.16844904, -0.14115906, -0.10167593, ..., -0.58494806,\n",
       "          -0.5677389 , -0.6080045 ]],\n",
       "\n",
       "        [[ 0.8980392 ,  0.8980391 ,  0.8980391 , ...,  0.9765917 ,\n",
       "           0.9764706 ,  0.9764705 ],\n",
       "         [ 0.8980391 ,  0.898039  ,  0.898039  , ...,  0.9765917 ,\n",
       "           0.9764707 ,  0.9764706 ],\n",
       "         [ 0.8980391 ,  0.8980391 ,  0.8980391 , ...,  0.9765918 ,\n",
       "           0.9764706 ,  0.9764706 ],\n",
       "         ...,\n",
       "         [-0.01767218,  0.00528944,  0.01635051, ..., -0.54542303,\n",
       "          -0.5436394 , -0.5650071 ],\n",
       "         [-0.03275406,  0.00833392,  0.03847003, ..., -0.510683  ,\n",
       "          -0.49441773, -0.5335096 ],\n",
       "         [-0.04185426,  0.00952113,  0.04843676, ..., -0.46006393,\n",
       "          -0.4422487 , -0.48251426]],\n",
       "\n",
       "        [[ 0.84313726,  0.84313726,  0.84313726, ...,  0.94509804,\n",
       "           0.94509804,  0.94509804],\n",
       "         [ 0.84313726,  0.84313726,  0.84313726, ...,  0.9450979 ,\n",
       "           0.9450979 ,  0.9450979 ],\n",
       "         [ 0.84313726,  0.84313726,  0.84313726, ...,  0.94509804,\n",
       "           0.94509804,  0.94509804],\n",
       "         ...,\n",
       "         [-0.2886957 , -0.26680672, -0.2633049 , ..., -0.62374353,\n",
       "          -0.6220708 , -0.64343846],\n",
       "         [-0.27097976, -0.23740464, -0.20970953, ..., -0.58832294,\n",
       "          -0.57284915, -0.611941  ],\n",
       "         [-0.2696728 , -0.22522658, -0.17047173, ..., -0.5374102 ,\n",
       "          -0.5206801 , -0.56094563]]]], dtype=float32)"
      ]
     },
     "execution_count": 28,
     "metadata": {},
     "output_type": "execute_result"
    }
   ],
   "source": [
    "transform(pil_to_tensor).numpy()"
   ]
  },
  {
   "cell_type": "code",
   "execution_count": null,
   "id": "7962e920",
   "metadata": {},
   "outputs": [],
   "source": []
  },
  {
   "cell_type": "code",
   "execution_count": null,
   "id": "af836412",
   "metadata": {},
   "outputs": [],
   "source": []
  },
  {
   "cell_type": "code",
   "execution_count": 15,
   "id": "12400336-cfc6-4316-9377-ababb4d496ab",
   "metadata": {
    "execution": {
     "iopub.execute_input": "2022-09-27T20:24:29.254630Z",
     "iopub.status.busy": "2022-09-27T20:24:29.254346Z",
     "iopub.status.idle": "2022-09-27T20:24:29.259910Z",
     "shell.execute_reply": "2022-09-27T20:24:29.259267Z",
     "shell.execute_reply.started": "2022-09-27T20:24:29.254607Z"
    },
    "tags": []
   },
   "outputs": [],
   "source": [
    "from torch.utils.mobile_optimizer import optimize_for_mobile"
   ]
  },
  {
   "cell_type": "code",
   "execution_count": 16,
   "id": "18f974ca-7fd3-4edd-89ee-a7e37203cd87",
   "metadata": {
    "execution": {
     "iopub.execute_input": "2022-09-27T20:24:29.261071Z",
     "iopub.status.busy": "2022-09-27T20:24:29.260813Z",
     "iopub.status.idle": "2022-09-27T20:24:29.307814Z",
     "shell.execute_reply": "2022-09-27T20:24:29.306922Z",
     "shell.execute_reply.started": "2022-09-27T20:24:29.261050Z"
    },
    "tags": []
   },
   "outputs": [],
   "source": [
    "optimized_torchscript_processor = optimize_for_mobile(scripted_pb_transform)"
   ]
  },
  {
   "cell_type": "code",
   "execution_count": 17,
   "id": "a01682e1-3b66-435a-81ae-43df506a6973",
   "metadata": {
    "execution": {
     "iopub.execute_input": "2022-09-27T20:24:29.309082Z",
     "iopub.status.busy": "2022-09-27T20:24:29.308797Z",
     "iopub.status.idle": "2022-09-27T20:24:29.788651Z",
     "shell.execute_reply": "2022-09-27T20:24:29.787668Z",
     "shell.execute_reply.started": "2022-09-27T20:24:29.309033Z"
    },
    "tags": []
   },
   "outputs": [],
   "source": [
    "optimized_torchscript_processor._save_for_lite_interpreter(\"vilt_lite_processor.ptl\")"
   ]
  },
  {
   "cell_type": "code",
   "execution_count": null,
   "id": "e134ed4e",
   "metadata": {},
   "outputs": [],
   "source": []
  },
  {
   "cell_type": "markdown",
   "id": "b8708716",
   "metadata": {},
   "source": [
    "# For reference"
   ]
  },
  {
   "cell_type": "code",
   "execution_count": 18,
   "id": "9bd81d1d",
   "metadata": {},
   "outputs": [],
   "source": [
    "base = np.load(\"joyful_dog_pixelbert_og.npy\")"
   ]
  },
  {
   "cell_type": "code",
   "execution_count": 19,
   "id": "cb420104",
   "metadata": {},
   "outputs": [
    {
     "data": {
      "text/plain": [
       "(1, 3, 384, 576)"
      ]
     },
     "execution_count": 19,
     "metadata": {},
     "output_type": "execute_result"
    }
   ],
   "source": [
    "base.shape"
   ]
  },
  {
   "cell_type": "code",
   "execution_count": 20,
   "id": "51b7682d",
   "metadata": {},
   "outputs": [
    {
     "data": {
      "text/plain": [
       "array([[[[ 0.96862745,  0.96862745,  0.96862745, ...,  0.9843137 ,\n",
       "           0.9843137 ,  0.9843137 ],\n",
       "         [ 0.96862745,  0.96862745,  0.96862745, ...,  0.9843137 ,\n",
       "           0.9843137 ,  0.9843137 ],\n",
       "         [ 0.96862745,  0.96862745,  0.96862745, ...,  0.9843137 ,\n",
       "           0.9843137 ,  0.9843137 ],\n",
       "         ...,\n",
       "         [-0.20784312, -0.18431371, -0.19215685, ..., -0.6627451 ,\n",
       "          -0.67058825, -0.6862745 ],\n",
       "         [-0.18431371, -0.1607843 , -0.1372549 , ..., -0.6313726 ,\n",
       "          -0.62352943, -0.654902  ],\n",
       "         [-0.16862744, -0.14509803, -0.10588235, ..., -0.58431375,\n",
       "          -0.5686275 , -0.60784316]],\n",
       "\n",
       "        [[ 0.8980392 ,  0.8980392 ,  0.8980392 , ...,  0.9764706 ,\n",
       "           0.9764706 ,  0.9764706 ],\n",
       "         [ 0.8980392 ,  0.8980392 ,  0.8980392 , ...,  0.9764706 ,\n",
       "           0.9764706 ,  0.9764706 ],\n",
       "         [ 0.8980392 ,  0.8980392 ,  0.8980392 , ...,  0.9764706 ,\n",
       "           0.9764706 ,  0.9764706 ],\n",
       "         ...,\n",
       "         [-0.01960784,  0.00392163,  0.0196079 , ..., -0.54509807,\n",
       "          -0.54509807, -0.56078434],\n",
       "         [-0.03529412,  0.00392163,  0.03529418, ..., -0.5137255 ,\n",
       "          -0.4980392 , -0.5294118 ],\n",
       "         [-0.04313725,  0.00392163,  0.04313731, ..., -0.4588235 ,\n",
       "          -0.44313723, -0.4823529 ]],\n",
       "\n",
       "        [[ 0.84313726,  0.84313726,  0.84313726, ...,  0.94509804,\n",
       "           0.94509804,  0.94509804],\n",
       "         [ 0.84313726,  0.84313726,  0.84313726, ...,  0.94509804,\n",
       "           0.94509804,  0.94509804],\n",
       "         [ 0.84313726,  0.84313726,  0.84313726, ...,  0.94509804,\n",
       "           0.94509804,  0.94509804],\n",
       "         ...,\n",
       "         [-0.2862745 , -0.27058822, -0.26274508, ..., -0.6156863 ,\n",
       "          -0.62352943, -0.6392157 ],\n",
       "         [-0.27058822, -0.23921567, -0.21568626, ..., -0.58431375,\n",
       "          -0.5764706 , -0.60784316],\n",
       "         [-0.27058822, -0.2235294 , -0.16862744, ..., -0.5372549 ,\n",
       "          -0.52156866, -0.56078434]]]], dtype=float32)"
      ]
     },
     "execution_count": 20,
     "metadata": {},
     "output_type": "execute_result"
    }
   ],
   "source": [
    "base"
   ]
  },
  {
   "cell_type": "code",
   "execution_count": 21,
   "id": "e298b7d1",
   "metadata": {},
   "outputs": [
    {
     "data": {
      "text/plain": [
       "tensor([[[[ 0.9686,  0.9686,  0.9686,  ...,  0.9841,  0.9843,  0.9843],\n",
       "          [ 0.9686,  0.9686,  0.9686,  ...,  0.9841,  0.9843,  0.9843],\n",
       "          [ 0.9686,  0.9686,  0.9686,  ...,  0.9841,  0.9843,  0.9843],\n",
       "          ...,\n",
       "          [-0.2091, -0.1883, -0.1918,  ..., -0.6707, -0.6691, -0.6905],\n",
       "          [-0.1865, -0.1598, -0.1332,  ..., -0.6356, -0.6199, -0.6590],\n",
       "          [-0.1684, -0.1412, -0.1017,  ..., -0.5849, -0.5677, -0.6080]],\n",
       "\n",
       "         [[ 0.8980,  0.8980,  0.8980,  ...,  0.9766,  0.9765,  0.9765],\n",
       "          [ 0.8980,  0.8980,  0.8980,  ...,  0.9766,  0.9765,  0.9765],\n",
       "          [ 0.8980,  0.8980,  0.8980,  ...,  0.9766,  0.9765,  0.9765],\n",
       "          ...,\n",
       "          [-0.0177,  0.0053,  0.0164,  ..., -0.5454, -0.5436, -0.5650],\n",
       "          [-0.0328,  0.0083,  0.0385,  ..., -0.5107, -0.4944, -0.5335],\n",
       "          [-0.0419,  0.0095,  0.0484,  ..., -0.4601, -0.4422, -0.4825]],\n",
       "\n",
       "         [[ 0.8431,  0.8431,  0.8431,  ...,  0.9451,  0.9451,  0.9451],\n",
       "          [ 0.8431,  0.8431,  0.8431,  ...,  0.9451,  0.9451,  0.9451],\n",
       "          [ 0.8431,  0.8431,  0.8431,  ...,  0.9451,  0.9451,  0.9451],\n",
       "          ...,\n",
       "          [-0.2887, -0.2668, -0.2633,  ..., -0.6237, -0.6221, -0.6434],\n",
       "          [-0.2710, -0.2374, -0.2097,  ..., -0.5883, -0.5728, -0.6119],\n",
       "          [-0.2697, -0.2252, -0.1705,  ..., -0.5374, -0.5207, -0.5609]]]])"
      ]
     },
     "execution_count": 21,
     "metadata": {},
     "output_type": "execute_result"
    }
   ],
   "source": [
    "output"
   ]
  },
  {
   "cell_type": "code",
   "execution_count": 42,
   "id": "cfbfbb91",
   "metadata": {},
   "outputs": [],
   "source": [
    "output = output.numpy()"
   ]
  },
  {
   "cell_type": "code",
   "execution_count": 43,
   "id": "978d52a3",
   "metadata": {},
   "outputs": [
    {
     "data": {
      "text/plain": [
       "0.0033902633"
      ]
     },
     "execution_count": 43,
     "metadata": {},
     "output_type": "execute_result"
    }
   ],
   "source": [
    "np.mean(np.abs(output - base))"
   ]
  }
 ],
 "metadata": {
  "kernelspec": {
   "display_name": "mobi",
   "language": "python",
   "name": "mobi"
  },
  "language_info": {
   "codemirror_mode": {
    "name": "ipython",
    "version": 3
   },
   "file_extension": ".py",
   "mimetype": "text/x-python",
   "name": "python",
   "nbconvert_exporter": "python",
   "pygments_lexer": "ipython3",
   "version": "3.8.10"
  },
  "vscode": {
   "interpreter": {
    "hash": "e7370f93d1d0cde622a1f8e1c04877d8463912d04d973331ad4851f04de6915a"
   }
  }
 },
 "nbformat": 4,
 "nbformat_minor": 5
}
