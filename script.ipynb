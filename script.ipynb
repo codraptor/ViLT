{
 "cells": [
  {
   "cell_type": "code",
   "execution_count": 1,
   "id": "9240e045-f16d-4328-926c-def37d62b93b",
   "metadata": {
    "execution": {
     "iopub.execute_input": "2022-09-27T20:24:20.862221Z",
     "iopub.status.busy": "2022-09-27T20:24:20.861741Z",
     "iopub.status.idle": "2022-09-27T20:24:29.033806Z",
     "shell.execute_reply": "2022-09-27T20:24:29.032931Z",
     "shell.execute_reply.started": "2022-09-27T20:24:20.862139Z"
    },
    "tags": []
   },
   "outputs": [],
   "source": [
    "from vilt.transforms import pixelbert_transform\n",
    "from vilt.datamodules.datamodule_base import get_pretrained_tokenizer"
   ]
  },
  {
   "cell_type": "code",
   "execution_count": 2,
   "id": "cbf88fd3-1142-4978-badc-40060e229cd1",
   "metadata": {
    "execution": {
     "iopub.execute_input": "2022-09-27T20:24:29.035831Z",
     "iopub.status.busy": "2022-09-27T20:24:29.035349Z",
     "iopub.status.idle": "2022-09-27T20:24:29.039570Z",
     "shell.execute_reply": "2022-09-27T20:24:29.038846Z",
     "shell.execute_reply.started": "2022-09-27T20:24:29.035807Z"
    },
    "tags": []
   },
   "outputs": [],
   "source": [
    "import torch"
   ]
  },
  {
   "cell_type": "code",
   "execution_count": 8,
   "id": "508a28e6",
   "metadata": {},
   "outputs": [],
   "source": [
    "import requests\n",
    "from PIL import Image\n",
    "import io"
   ]
  },
  {
   "cell_type": "code",
   "execution_count": 12,
   "id": "fba400d6",
   "metadata": {},
   "outputs": [],
   "source": [
    "from torchvision.transforms import ToTensor"
   ]
  },
  {
   "cell_type": "code",
   "execution_count": 4,
   "id": "fffb7712",
   "metadata": {},
   "outputs": [
    {
     "data": {
      "text/plain": [
       "'1.10.0'"
      ]
     },
     "execution_count": 4,
     "metadata": {},
     "output_type": "execute_result"
    }
   ],
   "source": [
    "torch.__version__"
   ]
  },
  {
   "cell_type": "code",
   "execution_count": 5,
   "id": "0216f111-4f50-45c4-8d45-af75856408ed",
   "metadata": {
    "execution": {
     "iopub.execute_input": "2022-09-27T20:24:29.040553Z",
     "iopub.status.busy": "2022-09-27T20:24:29.040345Z",
     "iopub.status.idle": "2022-09-27T20:24:29.252630Z",
     "shell.execute_reply": "2022-09-27T20:24:29.251887Z",
     "shell.execute_reply.started": "2022-09-27T20:24:29.040533Z"
    },
    "tags": []
   },
   "outputs": [],
   "source": [
    "scripted_pb_transform = torch.jit.script(pixelbert_transform(384))"
   ]
  },
  {
   "cell_type": "code",
   "execution_count": 9,
   "id": "2a3ac0ec",
   "metadata": {},
   "outputs": [],
   "source": [
    "url = \"https://media.istockphoto.com/photos/joyful-dog-playing-with-whip-while-walking-on-green-field-picture-id1187003477?k=20&m=1187003477&s=612x612&w=0&h=fvUFuwvTZWEJjk8HUU80-zvaI4gg9szPGJ2RdASH72s=\"\n",
    "text = \"How many dogs are there in this picture?\"\n",
    "res = requests.get(url)\n",
    "image = Image.open(io.BytesIO(res.content)).convert(\"RGB\")"
   ]
  },
  {
   "cell_type": "code",
   "execution_count": 16,
   "id": "ed1667ac",
   "metadata": {},
   "outputs": [
    {
     "name": "stdout",
     "output_type": "stream",
     "text": [
      "torch.Size([1, 3, 408, 612])\n"
     ]
    }
   ],
   "source": [
    "pil_to_tensor = ToTensor()(image).unsqueeze_(0)\n",
    "print(pil_to_tensor.shape) "
   ]
  },
  {
   "cell_type": "code",
   "execution_count": 18,
   "id": "8d7e6e80",
   "metadata": {},
   "outputs": [],
   "source": [
    "output = scripted_pb_transform(pil_to_tensor)"
   ]
  },
  {
   "cell_type": "code",
   "execution_count": 20,
   "id": "09c5836e",
   "metadata": {},
   "outputs": [],
   "source": [
    "import numpy as np"
   ]
  },
  {
   "cell_type": "code",
   "execution_count": null,
   "id": "cf1b1c2f",
   "metadata": {},
   "outputs": [],
   "source": [
    "np.save(\"\")"
   ]
  },
  {
   "cell_type": "code",
   "execution_count": 4,
   "id": "12400336-cfc6-4316-9377-ababb4d496ab",
   "metadata": {
    "execution": {
     "iopub.execute_input": "2022-09-27T20:24:29.254630Z",
     "iopub.status.busy": "2022-09-27T20:24:29.254346Z",
     "iopub.status.idle": "2022-09-27T20:24:29.259910Z",
     "shell.execute_reply": "2022-09-27T20:24:29.259267Z",
     "shell.execute_reply.started": "2022-09-27T20:24:29.254607Z"
    },
    "tags": []
   },
   "outputs": [],
   "source": [
    "from torch.utils.mobile_optimizer import optimize_for_mobile"
   ]
  },
  {
   "cell_type": "code",
   "execution_count": 5,
   "id": "18f974ca-7fd3-4edd-89ee-a7e37203cd87",
   "metadata": {
    "execution": {
     "iopub.execute_input": "2022-09-27T20:24:29.261071Z",
     "iopub.status.busy": "2022-09-27T20:24:29.260813Z",
     "iopub.status.idle": "2022-09-27T20:24:29.307814Z",
     "shell.execute_reply": "2022-09-27T20:24:29.306922Z",
     "shell.execute_reply.started": "2022-09-27T20:24:29.261050Z"
    },
    "tags": []
   },
   "outputs": [],
   "source": [
    "optimized_torchscript_processor = optimize_for_mobile(scripted_pb_transform)"
   ]
  },
  {
   "cell_type": "code",
   "execution_count": 6,
   "id": "a01682e1-3b66-435a-81ae-43df506a6973",
   "metadata": {
    "execution": {
     "iopub.execute_input": "2022-09-27T20:24:29.309082Z",
     "iopub.status.busy": "2022-09-27T20:24:29.308797Z",
     "iopub.status.idle": "2022-09-27T20:24:29.788651Z",
     "shell.execute_reply": "2022-09-27T20:24:29.787668Z",
     "shell.execute_reply.started": "2022-09-27T20:24:29.309033Z"
    },
    "tags": []
   },
   "outputs": [],
   "source": [
    "optimized_torchscript_processor._save_for_lite_interpreter(\"vilt_lite_processor.ptl\")"
   ]
  }
 ],
 "metadata": {
  "kernelspec": {
   "display_name": "mobi",
   "language": "python",
   "name": "mobi"
  },
  "language_info": {
   "codemirror_mode": {
    "name": "ipython",
    "version": 3
   },
   "file_extension": ".py",
   "mimetype": "text/x-python",
   "name": "python",
   "nbconvert_exporter": "python",
   "pygments_lexer": "ipython3",
   "version": "3.9.13"
  }
 },
 "nbformat": 4,
 "nbformat_minor": 5
}
